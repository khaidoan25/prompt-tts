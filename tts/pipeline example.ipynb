{
 "cells": [
  {
   "cell_type": "code",
   "execution_count": 2,
   "id": "ae96008a",
   "metadata": {},
   "outputs": [],
   "source": [
    "from pipeline_Unet1D import Unet1DPipe"
   ]
  },
  {
   "cell_type": "code",
   "execution_count": 3,
   "id": "c80cc402",
   "metadata": {},
   "outputs": [],
   "source": [
    "from diffusers import DDPMPipeline, DDPMScheduler"
   ]
  },
  {
   "cell_type": "code",
   "execution_count": 6,
   "id": "101b4ce4",
   "metadata": {},
   "outputs": [],
   "source": [
    "import torch"
   ]
  },
  {
   "cell_type": "code",
   "execution_count": 11,
   "id": "9026cdb5",
   "metadata": {},
   "outputs": [],
   "source": [
    "from ldm.unet_1d_condition import Unet1DConditionModel"
   ]
  },
  {
   "cell_type": "code",
   "execution_count": null,
   "id": "690d77f9",
   "metadata": {},
   "outputs": [],
   "source": [
    "#unet1d model"
   ]
  },
  {
   "cell_type": "code",
   "execution_count": null,
   "id": "9c4b1145",
   "metadata": {},
   "outputs": [],
   "source": [
    "model=Unet1DConditionModel(sample_size=1500,\n",
    "            in_channels=1,\n",
    "            out_channels=1,\n",
    "            layers_per_block=2,\n",
    "            block_out_channels=(128,256, 512, 512),\n",
    "            down_block_types=(\n",
    "\n",
    "                \"DownBlock2D\",\n",
    "                \"DownBlock2D\",\n",
    "                \"CrossAttnDownBlock2D\",\n",
    "                \"DownBlock2D\",\n",
    "         \n",
    "            ),\n",
    "            up_block_types=(\n",
    "                \"UpBlock2D\",\n",
    "                \"CrossAttnUpBlock2D\",\n",
    "                \"UpBlock2D\",\n",
    "                \"UpBlock2D\",\n",
    "\n",
    "\n",
    "            ),\n",
    "            cross_attention_dim=768,\n",
    "    )"
   ]
  },
  {
   "cell_type": "code",
   "execution_count": 4,
   "id": "b647ef45",
   "metadata": {},
   "outputs": [],
   "source": [
    "noise_scheduler = DDPMScheduler(\n",
    "                num_train_timesteps=10,\n",
    "                beta_schedule=\"linear\",\n",
    "                prediction_type=\"epsilon\",\n",
    "            )"
   ]
  },
  {
   "cell_type": "code",
   "execution_count": null,
   "id": "9bfc8544",
   "metadata": {},
   "outputs": [],
   "source": [
    "generator = torch.Generator(device=model.device).manual_seed(0) #for reproduce same output"
   ]
  },
  {
   "cell_type": "code",
   "execution_count": null,
   "id": "d1142b01",
   "metadata": {},
   "outputs": [],
   "source": [
    "pipeline = Unet1DPipe(\n",
    "                            unet=model,\n",
    "                            scheduler=noise_scheduler,\n",
    "                            \n",
    "                    )"
   ]
  },
  {
   "cell_type": "code",
   "execution_count": null,
   "id": "e0508282",
   "metadata": {},
   "outputs": [],
   "source": [
    "condition = torch.rand(2, 50, 768) #get it from encoder by the input text in real case"
   ]
  },
  {
   "cell_type": "code",
   "execution_count": null,
   "id": "1bba4671",
   "metadata": {},
   "outputs": [],
   "source": [
    "result = pipeline(\n",
    "                    generator=generator,\n",
    "                    batch_size=2,\n",
    "                    encoder_hidden_states=condition,\n",
    "                    num_inference_steps=10,#should be 1000 for real use\n",
    "                    )"
   ]
  }
 ],
 "metadata": {
  "kernelspec": {
   "display_name": "Python 3 (ipykernel)",
   "language": "python",
   "name": "python3"
  },
  "language_info": {
   "codemirror_mode": {
    "name": "ipython",
    "version": 3
   },
   "file_extension": ".py",
   "mimetype": "text/x-python",
   "name": "python",
   "nbconvert_exporter": "python",
   "pygments_lexer": "ipython3",
   "version": "3.9.12"
  }
 },
 "nbformat": 4,
 "nbformat_minor": 5
}
